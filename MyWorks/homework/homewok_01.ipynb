{
 "cells": [
  {
   "cell_type": "code",
   "execution_count": 10,
   "metadata": {},
   "outputs": [
    {
     "name": "stdout",
     "output_type": "stream",
     "text": [
      "16\n"
     ]
    }
   ],
   "source": [
    "import math\n",
    "n,m = [int(x) for x in input().split()]\n",
    "l,k = [int(x) for x in input().split()]\n",
    "c = int(input())\n",
    "gridprice = 0\n",
    "for i in range(n):\n",
    "    grid = [int(x) for x in input().split()]\n",
    "    gridprice += sum(grid)\n",
    "gasprice = l*k*c\n",
    "price = gasprice+gridprice\n",
    "print(math.ceil(price/c))"
   ]
  }
 ],
 "metadata": {
  "interpreter": {
   "hash": "183bbf6827d058c2a2fb0f4acdc0420849dda2b4380af0e437e38c64d798d8b7"
  },
  "kernelspec": {
   "display_name": "Python 3.8.8 64-bit ('base': conda)",
   "language": "python",
   "name": "python3"
  },
  "language_info": {
   "codemirror_mode": {
    "name": "ipython",
    "version": 3
   },
   "file_extension": ".py",
   "mimetype": "text/x-python",
   "name": "python",
   "nbconvert_exporter": "python",
   "pygments_lexer": "ipython3",
   "version": "3.8.8"
  },
  "orig_nbformat": 4
 },
 "nbformat": 4,
 "nbformat_minor": 2
}
